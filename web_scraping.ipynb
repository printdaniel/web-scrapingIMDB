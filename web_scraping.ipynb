{
 "cells": [
  {
   "cell_type": "markdown",
   "id": "1845f45b",
   "metadata": {},
   "source": [
    "###  Web-scraping IMDb with Python\n",
    "\n",
    "###  Top popular movies\n",
    "\n",
    "I used IMDb as a reference, because it contains all the information I need. On the website I selected the movies released between 01.01.-31.12.2021, sorted by popularity, and limited my search to the first page, so the top 50 movies."
   ]
  },
  {
   "cell_type": "code",
   "execution_count": 1,
   "id": "26cd0d43",
   "metadata": {},
   "outputs": [],
   "source": [
    "from bs4 import BeautifulSoup\n",
    "import requests\n",
    "\n",
    "#  Very important: agree the User-Agent\n",
    "\n",
    "header = {'User-Agent': 'Mozilla/5.0 (X11; Linux x86_64) AppleWebKit/537.36 (KHTML, like Gecko)'}\n",
    "url = 'https://www.imdb.com/search/title/?year=2021'"
   ]
  },
  {
   "cell_type": "code",
   "execution_count": 2,
   "id": "7af36bf0",
   "metadata": {},
   "outputs": [],
   "source": [
    "page = requests.get(url,headers = header)\n",
    "soup = BeautifulSoup(page.content,\"html.parser\")"
   ]
  },
  {
   "cell_type": "code",
   "execution_count": 3,
   "id": "6c77cf24",
   "metadata": {},
   "outputs": [],
   "source": [
    "import pandas as pd\n",
    "df = pd.DataFrame(columns=['Movie','Genre','Duration'],index = range(50))\n",
    "#  Reset Index to Start from 1\n",
    "import numpy as np\n",
    "df.index = np.arange(1,len(df) +1)"
   ]
  },
  {
   "cell_type": "markdown",
   "id": "18f0d672",
   "metadata": {},
   "source": [
    "## Extract\n",
    "\n",
    "### This is the process of extracting data from various sources."
   ]
  },
  {
   "cell_type": "code",
   "execution_count": 4,
   "id": "eb4d88a3",
   "metadata": {},
   "outputs": [],
   "source": [
    "#  Loading the title info\n",
    "\n",
    "titulo_data =soup.find_all('h3',attrs={'class':'lister-item-header'})\n",
    "movies = []\n",
    "for e in titulo_data:\n",
    "    sub = e.find('a').text\n",
    "    movies.append(sub)\n",
    "\n",
    "df['Movie'] = movies"
   ]
  },
  {
   "cell_type": "code",
   "execution_count": 5,
   "id": "1db2782f",
   "metadata": {},
   "outputs": [],
   "source": [
    "#  Genero\n",
    "genero_data = soup.find_all('span',{'class':'genre'})\n",
    "genero = []\n",
    "for g in genero_data:\n",
    "    \n",
    "    string = g.text\n",
    "    # Clean\n",
    "    string1 = string.replace('\\n','')\n",
    "    string2 = string1.split(',')\n",
    "    string3 = string2[0]\n",
    "    genero.append(string3)\n",
    "\n",
    "df['Genre'] = genero"
   ]
  },
  {
   "cell_type": "code",
   "execution_count": 6,
   "id": "77c22836",
   "metadata": {},
   "outputs": [],
   "source": [
    "#  Duracion\n",
    "duracion_data = soup.find_all('span',{'class':'runtime'})\n",
    "duration = []\n",
    "for d in duracion_data:\n",
    "    \n",
    "    string = d.text\n",
    "    string2 = string.replace('min','')\n",
    "    duration.append(int(string2))\n",
    "\n",
    "# Corrección por falta de datos en IMDB\n",
    "duration.insert(16,0)\n",
    "duration.insert(34,0)\n",
    "df['Duration'] = duration"
   ]
  },
  {
   "cell_type": "code",
   "execution_count": 7,
   "id": "a24b8271",
   "metadata": {},
   "outputs": [
    {
     "data": {
      "text/html": [
       "<div>\n",
       "<style scoped>\n",
       "    .dataframe tbody tr th:only-of-type {\n",
       "        vertical-align: middle;\n",
       "    }\n",
       "\n",
       "    .dataframe tbody tr th {\n",
       "        vertical-align: top;\n",
       "    }\n",
       "\n",
       "    .dataframe thead th {\n",
       "        text-align: right;\n",
       "    }\n",
       "</style>\n",
       "<table border=\"1\" class=\"dataframe\">\n",
       "  <thead>\n",
       "    <tr style=\"text-align: right;\">\n",
       "      <th></th>\n",
       "      <th>Movie</th>\n",
       "      <th>Genre</th>\n",
       "      <th>Duration</th>\n",
       "    </tr>\n",
       "  </thead>\n",
       "  <tbody>\n",
       "    <tr>\n",
       "      <th>1</th>\n",
       "      <td>El teléfono negro</td>\n",
       "      <td>Horror</td>\n",
       "      <td>103</td>\n",
       "    </tr>\n",
       "    <tr>\n",
       "      <th>2</th>\n",
       "      <td>Only Murders in the Building</td>\n",
       "      <td>Comedy</td>\n",
       "      <td>30</td>\n",
       "    </tr>\n",
       "    <tr>\n",
       "      <th>3</th>\n",
       "      <td>American Horror Stories</td>\n",
       "      <td>Drama</td>\n",
       "      <td>45</td>\n",
       "    </tr>\n",
       "    <tr>\n",
       "      <th>4</th>\n",
       "      <td>Spider-Man: Sin camino a casa</td>\n",
       "      <td>Action</td>\n",
       "      <td>148</td>\n",
       "    </tr>\n",
       "    <tr>\n",
       "      <th>5</th>\n",
       "      <td>Sing 2: ¡Ven y canta de nuevo!</td>\n",
       "      <td>Animation</td>\n",
       "      <td>110</td>\n",
       "    </tr>\n",
       "  </tbody>\n",
       "</table>\n",
       "</div>"
      ],
      "text/plain": [
       "                            Movie      Genre  Duration\n",
       "1               El teléfono negro     Horror       103\n",
       "2    Only Murders in the Building     Comedy        30\n",
       "3         American Horror Stories      Drama        45\n",
       "4   Spider-Man: Sin camino a casa     Action       148\n",
       "5  Sing 2: ¡Ven y canta de nuevo!  Animation       110"
      ]
     },
     "execution_count": 7,
     "metadata": {},
     "output_type": "execute_result"
    }
   ],
   "source": [
    "df.head()"
   ]
  },
  {
   "cell_type": "markdown",
   "id": "ad794b11",
   "metadata": {},
   "source": [
    "# Top movie genres\n",
    "## Scraping the genre tags of each movie is pretty straightforward"
   ]
  },
  {
   "cell_type": "code",
   "execution_count": 8,
   "id": "62481b12",
   "metadata": {},
   "outputs": [],
   "source": [
    "import pandas as pd\n",
    "import matplotlib.pyplot as plt\n",
    "import seaborn as sns"
   ]
  },
  {
   "cell_type": "code",
   "execution_count": 9,
   "id": "1d9e78ef",
   "metadata": {},
   "outputs": [],
   "source": [
    "grouped_genre = df.groupby('Genre').count()\n",
    "grouped_genre = grouped_genre.drop(['Duration'],axis=1)"
   ]
  },
  {
   "cell_type": "code",
   "execution_count": 10,
   "id": "c0c935a6",
   "metadata": {},
   "outputs": [
    {
     "data": {
      "image/png": "[encoded data removed]",
      "text/plain": [
       "<Figure size 864x576 with 1 Axes>"
      ]
     },
     "metadata": {
      "needs_background": "light"
     },
     "output_type": "display_data"
    }
   ],
   "source": [
    "plt.figure(figsize=(12, 8)) \n",
    "plots = sns.barplot(x=grouped_genre.index, y=grouped_genre.Movie, data=grouped_genre) \n",
    "plt.xlabel(\"Generos\", size=20) \n",
    "plt.ylabel(\"Cantidad\", size=20) \n",
    "plt.show()"
   ]
  },
  {
   "cell_type": "markdown",
   "id": "cc62278a",
   "metadata": {},
   "source": [
    "#  Top movies duration\n",
    "##  Next, I analyzed the distribution of movie duration:"
   ]
  },
  {
   "cell_type": "code",
   "execution_count": 12,
   "id": "1e6d92e2",
   "metadata": {},
   "outputs": [],
   "source": [
    "grouped_gen_dur = df.groupby(['Duration','Genre']).count()\n",
    "df_gen = pd.DataFrame()\n",
    "df_gen['Genre'] = df['Genre']\n",
    "df_gen['Duration'] = df['Duration']"
   ]
  },
  {
   "cell_type": "code",
   "execution_count": 13,
   "id": "28a7f088",
   "metadata": {},
   "outputs": [
    {
     "data": {
      "image/png": "[encoded data removed]",
      "text/plain": [
       "<Figure size 864x576 with 1 Axes>"
      ]
     },
     "metadata": {
      "needs_background": "light"
     },
     "output_type": "display_data"
    }
   ],
   "source": [
    "plt.figure(figsize=(12, 8)) \n",
    "plots = sns.barplot(x=df_gen.Genre, y=df_gen.Duration, data=df_gen) \n",
    "plt.xlabel(\"Genre\", size=20) \n",
    "plt.ylabel(\"Minutes\", size=20) \n",
    "plt.show() "
   ]
  },
  {
   "cell_type": "markdown",
   "id": "8a70613b",
   "metadata": {},
   "source": [
    "# Conclusion\n",
    "\n",
    "Web scraping can provide a wealth of information, combined with analysis tools it can be very revealing.\n",
    "In this project you can see how drama and biographical films are the longest running, while horror and animation films are the shortest running."
   ]
  },
  {
   "cell_type": "code",
   "execution_count": null,
   "id": "15cff146",
   "metadata": {},
   "outputs": [],
   "source": []
  }
 ],
 "metadata": {
  "kernelspec": {
   "display_name": "Python 3 (ipykernel)",
   "language": "python",
   "name": "python3"
  },
  "language_info": {
   "codemirror_mode": {
    "name": "ipython",
    "version": 3
   },
   "file_extension": ".py",
   "mimetype": "text/x-python",
   "name": "python",
   "nbconvert_exporter": "python",
   "pygments_lexer": "ipython3",
   "version": "3.10.5"
  }
 },
 "nbformat": 4,
 "nbformat_minor": 5
}
